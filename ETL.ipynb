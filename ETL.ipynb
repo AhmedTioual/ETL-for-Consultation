{
 "cells": [
  {
   "cell_type": "code",
   "execution_count": 1,
   "id": "7e4dbca5",
   "metadata": {},
   "outputs": [],
   "source": [
    "import petl as pt\n",
    "import pypyodbc as bd"
   ]
  },
  {
   "cell_type": "code",
   "execution_count": 2,
   "id": "c2dddf3b",
   "metadata": {},
   "outputs": [],
   "source": [
    "#extract Data from CSV"
   ]
  },
  {
   "cell_type": "code",
   "execution_count": 3,
   "id": "567f04f1",
   "metadata": {},
   "outputs": [],
   "source": [
    "personne = pt.fromcsv('Personne.csv')"
   ]
  },
  {
   "cell_type": "code",
   "execution_count": 4,
   "id": "4c844b47",
   "metadata": {},
   "outputs": [],
   "source": [
    "medecin = pt.fromcsv('Medecin.csv')"
   ]
  },
  {
   "cell_type": "code",
   "execution_count": 5,
   "id": "e15d8cbe",
   "metadata": {},
   "outputs": [],
   "source": [
    "consultation = pt.fromcsv('CONSULTATION.csv')"
   ]
  },
  {
   "cell_type": "code",
   "execution_count": 7,
   "id": "558de855",
   "metadata": {},
   "outputs": [],
   "source": [
    "#Transformation data"
   ]
  },
  {
   "cell_type": "code",
   "execution_count": 8,
   "id": "c7158203",
   "metadata": {},
   "outputs": [],
   "source": [
    "#Dimension Personne\n",
    "personne = pt.setheader(personne,['id_pers','nom','pernom','tel','adresse','sexe'])"
   ]
  },
  {
   "cell_type": "code",
   "execution_count": 9,
   "id": "5754adfd",
   "metadata": {},
   "outputs": [],
   "source": [
    "personne = pt.cutout(personne,'pernom') #select all columns without 'prenom'"
   ]
  },
  {
   "cell_type": "code",
   "execution_count": 10,
   "id": "bead9188",
   "metadata": {},
   "outputs": [
    {
     "data": {
      "text/html": [
       "<table class='petl'>\n",
       "<thead>\n",
       "<tr>\n",
       "<th>id_pers</th>\n",
       "<th>nom</th>\n",
       "<th>tel</th>\n",
       "<th>adresse</th>\n",
       "<th>sexe</th>\n",
       "</tr>\n",
       "</thead>\n",
       "<tbody>\n",
       "<tr>\n",
       "<td>811</td>\n",
       "<td>Matt</td>\n",
       "<td>1911244512</td>\n",
       "<td>Adresse5</td>\n",
       "<td>F</td>\n",
       "</tr>\n",
       "<tr>\n",
       "<td>711</td>\n",
       "<td>Ann</td>\n",
       "<td>942228240</td>\n",
       "<td>Adresse5</td>\n",
       "<td>F</td>\n",
       "</tr>\n",
       "<tr>\n",
       "<td>911</td>\n",
       "<td>Laila</td>\n",
       "<td>8019547231</td>\n",
       "<td>Adresse4</td>\n",
       "<td>M</td>\n",
       "</tr>\n",
       "<tr>\n",
       "<td>688</td>\n",
       "<td>Matt</td>\n",
       "<td>5974928000</td>\n",
       "<td>Adresse4</td>\n",
       "<td>F</td>\n",
       "</tr>\n",
       "<tr>\n",
       "<td>47</td>\n",
       "<td>Ann</td>\n",
       "<td>8229280313</td>\n",
       "<td>Adresse1</td>\n",
       "<td>F</td>\n",
       "</tr>\n",
       "</tbody>\n",
       "</table>\n",
       "<p><strong>...</strong></p>"
      ],
      "text/plain": [
       "+---------+---------+--------------+------------+------+\n",
       "| id_pers | nom     | tel          | adresse    | sexe |\n",
       "+=========+=========+==============+============+======+\n",
       "| '811'   | 'Matt'  | '1911244512' | 'Adresse5' | 'F'  |\n",
       "+---------+---------+--------------+------------+------+\n",
       "| '711'   | 'Ann'   | '942228240'  | 'Adresse5' | 'F'  |\n",
       "+---------+---------+--------------+------------+------+\n",
       "| '911'   | 'Laila' | '8019547231' | 'Adresse4' | 'M'  |\n",
       "+---------+---------+--------------+------------+------+\n",
       "| '688'   | 'Matt'  | '5974928000' | 'Adresse4' | 'F'  |\n",
       "+---------+---------+--------------+------------+------+\n",
       "| '47'    | 'Ann'   | '8229280313' | 'Adresse1' | 'F'  |\n",
       "+---------+---------+--------------+------------+------+\n",
       "..."
      ]
     },
     "execution_count": 10,
     "metadata": {},
     "output_type": "execute_result"
    }
   ],
   "source": [
    "personne"
   ]
  },
  {
   "cell_type": "code",
   "execution_count": 11,
   "id": "496b3004",
   "metadata": {},
   "outputs": [],
   "source": [
    "#Dimension Medicien\n",
    "medecin = medecin.rename('ID','id_med')"
   ]
  },
  {
   "cell_type": "code",
   "execution_count": 12,
   "id": "684c71a6",
   "metadata": {},
   "outputs": [
    {
     "data": {
      "text/html": [
       "<table class='petl'>\n",
       "<thead>\n",
       "<tr>\n",
       "<th>id_med</th>\n",
       "<th>tel</th>\n",
       "<th>adresse</th>\n",
       "<th>specialite</th>\n",
       "</tr>\n",
       "</thead>\n",
       "<tbody>\n",
       "<tr>\n",
       "<td>4</td>\n",
       "<td>2322242318</td>\n",
       "<td>Addresse 202</td>\n",
       "<td>Neurologie</td>\n",
       "</tr>\n",
       "<tr>\n",
       "<td>31</td>\n",
       "<td>6219616626</td>\n",
       "<td>Addresse 302</td>\n",
       "<td>La dermatologie</td>\n",
       "</tr>\n",
       "<tr>\n",
       "<td>20</td>\n",
       "<td>2252827932</td>\n",
       "<td>Addresse 822</td>\n",
       "<td>L'andrologie</td>\n",
       "</tr>\n",
       "<tr>\n",
       "<td>40</td>\n",
       "<td>3794017827</td>\n",
       "<td>Addresse 100</td>\n",
       "<td>Stomatologie</td>\n",
       "</tr>\n",
       "<tr>\n",
       "<td>199</td>\n",
       "<td>6150399869</td>\n",
       "<td>Addresse 100</td>\n",
       "<td>L'andrologie</td>\n",
       "</tr>\n",
       "</tbody>\n",
       "</table>\n",
       "<p><strong>...</strong></p>"
      ],
      "text/plain": [
       "+--------+--------------+----------------+-------------------+\n",
       "| id_med | tel          | adresse        | specialite        |\n",
       "+========+==============+================+===================+\n",
       "| '4'    | '2322242318' | 'Addresse 202' | 'Neurologie'      |\n",
       "+--------+--------------+----------------+-------------------+\n",
       "| '31'   | '6219616626' | 'Addresse 302' | 'La dermatologie' |\n",
       "+--------+--------------+----------------+-------------------+\n",
       "| '20'   | '2252827932' | 'Addresse 822' | \"L'andrologie\"    |\n",
       "+--------+--------------+----------------+-------------------+\n",
       "| '40'   | '3794017827' | 'Addresse 100' | 'Stomatologie'    |\n",
       "+--------+--------------+----------------+-------------------+\n",
       "| '199'  | '6150399869' | 'Addresse 100' | \"L'andrologie\"    |\n",
       "+--------+--------------+----------------+-------------------+\n",
       "..."
      ]
     },
     "execution_count": 12,
     "metadata": {},
     "output_type": "execute_result"
    }
   ],
   "source": [
    "medecin"
   ]
  },
  {
   "cell_type": "code",
   "execution_count": 13,
   "id": "76bbc4c6",
   "metadata": {},
   "outputs": [],
   "source": [
    "#Join Data :\n",
    "consultation = pt.join(medecin,consultation,key='id_med')"
   ]
  },
  {
   "cell_type": "code",
   "execution_count": 14,
   "id": "0ef0ed19",
   "metadata": {},
   "outputs": [],
   "source": [
    "consultation = pt.join(personne,consultation,key='id_pers')"
   ]
  },
  {
   "cell_type": "code",
   "execution_count": 15,
   "id": "55ff26db",
   "metadata": {},
   "outputs": [],
   "source": [
    "#moving position of columns\n",
    "consultation = pt.movefield(consultation,'id_med',0)"
   ]
  },
  {
   "cell_type": "code",
   "execution_count": 16,
   "id": "bb267501",
   "metadata": {},
   "outputs": [],
   "source": [
    "#select the important columns\n",
    "consultation = pt.cut(consultation,'id_med','id_pers')"
   ]
  },
  {
   "cell_type": "code",
   "execution_count": 17,
   "id": "f66a8cc5",
   "metadata": {},
   "outputs": [],
   "source": [
    "#aggregation   \n",
    "consultation = pt.aggregate(consultation,['id_med','id_pers'],len).rename('value','NbrConsultation')"
   ]
  },
  {
   "cell_type": "code",
   "execution_count": 18,
   "id": "edd714e4",
   "metadata": {
    "collapsed": true
   },
   "outputs": [
    {
     "data": {
      "text/plain": [
       "+--------+---------+-----------------+\n",
       "| id_med | id_pers | NbrConsultation |\n",
       "+========+=========+=================+\n",
       "| '12'   | '513'   |               1 |\n",
       "+--------+---------+-----------------+\n",
       "| '12'   | '711'   |               1 |\n",
       "+--------+---------+-----------------+\n",
       "| '12'   | '811'   |               1 |\n",
       "+--------+---------+-----------------+\n",
       "| '20'   | '711'   |               1 |\n",
       "+--------+---------+-----------------+\n",
       "| '20'   | '830'   |               2 |\n",
       "+--------+---------+-----------------+\n",
       "| '23'   | '175'   |               1 |\n",
       "+--------+---------+-----------------+\n",
       "| '23'   | '47'    |               1 |\n",
       "+--------+---------+-----------------+\n",
       "| '28'   | '175'   |               3 |\n",
       "+--------+---------+-----------------+\n",
       "| '29'   | '513'   |               1 |\n",
       "+--------+---------+-----------------+\n",
       "| '29'   | '711'   |               1 |\n",
       "+--------+---------+-----------------+\n",
       "| '29'   | '830'   |               1 |\n",
       "+--------+---------+-----------------+\n",
       "| '29'   | '911'   |               1 |\n",
       "+--------+---------+-----------------+\n",
       "| '35'   | '175'   |               2 |\n",
       "+--------+---------+-----------------+\n",
       "| '35'   | '257'   |               2 |\n",
       "+--------+---------+-----------------+\n",
       "| '35'   | '47'    |               1 |\n",
       "+--------+---------+-----------------+\n",
       "| '4'    | '35'    |               5 |\n",
       "+--------+---------+-----------------+\n",
       "| '4'    | '911'   |               1 |\n",
       "+--------+---------+-----------------+\n",
       "| '9'    | '47'    |               4 |\n",
       "+--------+---------+-----------------+"
      ]
     },
     "execution_count": 18,
     "metadata": {},
     "output_type": "execute_result"
    }
   ],
   "source": [
    "#result\n",
    "consultation.lookall()"
   ]
  },
  {
   "cell_type": "code",
   "execution_count": 19,
   "id": "61cb8efd",
   "metadata": {},
   "outputs": [
    {
     "name": "stdout",
     "output_type": "stream",
     "text": [
      "5\n",
      "1\n"
     ]
    }
   ],
   "source": [
    "#same stats\n",
    "print(consultation['NbrConsultation'].max())\n",
    "print(consultation['NbrConsultation'].min())"
   ]
  },
  {
   "cell_type": "code",
   "execution_count": 22,
   "id": "637d033e",
   "metadata": {
    "collapsed": true
   },
   "outputs": [
    {
     "ename": "AttributeError",
     "evalue": "'ValuesView' object has no attribute 'sorted'",
     "output_type": "error",
     "traceback": [
      "\u001b[1;31m---------------------------------------------------------------------------\u001b[0m",
      "\u001b[1;31mAttributeError\u001b[0m                            Traceback (most recent call last)",
      "\u001b[1;32m~\\AppData\\Local\\Temp\\ipykernel_1880\\2274267860.py\u001b[0m in \u001b[0;36m<module>\u001b[1;34m\u001b[0m\n\u001b[1;32m----> 1\u001b[1;33m \u001b[0mconsultation\u001b[0m\u001b[1;33m[\u001b[0m\u001b[1;34m'NbrConsultation'\u001b[0m\u001b[1;33m]\u001b[0m\u001b[1;33m.\u001b[0m\u001b[0msorted\u001b[0m\u001b[1;33m(\u001b[0m\u001b[1;33m)\u001b[0m\u001b[1;33m\u001b[0m\u001b[1;33m\u001b[0m\u001b[0m\n\u001b[0m",
      "\u001b[1;31mAttributeError\u001b[0m: 'ValuesView' object has no attribute 'sorted'"
     ]
    }
   ],
   "source": [
    "consultation['NbrConsultation']"
   ]
  },
  {
   "cell_type": "code",
   "execution_count": null,
   "id": "18094b97",
   "metadata": {},
   "outputs": [],
   "source": [
    "#rename id of personne & medecin for handling database errors"
   ]
  },
  {
   "cell_type": "code",
   "execution_count": null,
   "id": "9e9e6a79",
   "metadata": {},
   "outputs": [],
   "source": [
    "personne = pt.rename(personne,'id_pers','id')"
   ]
  },
  {
   "cell_type": "code",
   "execution_count": null,
   "id": "929786d4",
   "metadata": {},
   "outputs": [],
   "source": [
    "personne"
   ]
  },
  {
   "cell_type": "code",
   "execution_count": null,
   "id": "3c69545c",
   "metadata": {},
   "outputs": [],
   "source": [
    "medecin = pt.rename(medecin,'id_med','id')"
   ]
  },
  {
   "cell_type": "code",
   "execution_count": null,
   "id": "2f6bf55b",
   "metadata": {},
   "outputs": [],
   "source": [
    "medecin "
   ]
  },
  {
   "cell_type": "code",
   "execution_count": null,
   "id": "15b496d1",
   "metadata": {},
   "outputs": [],
   "source": [
    "#--------------------------------------------Load Data--------------------------------------------#"
   ]
  },
  {
   "cell_type": "code",
   "execution_count": null,
   "id": "c08bef30",
   "metadata": {},
   "outputs": [],
   "source": [
    "#connect with sql server\n",
    "cn = bd.connect(Trusted_Connection='yes',driver='{SQL Server}',server='DESKTOP-LORG5OV',database='Data_Mart_hopital')"
   ]
  },
  {
   "cell_type": "code",
   "execution_count": null,
   "id": "2c6b9ab4",
   "metadata": {},
   "outputs": [],
   "source": [
    "#load data to datawarehouse\n",
    "pt.todb(personne,cn,'Dim_PERSONNE')"
   ]
  },
  {
   "cell_type": "code",
   "execution_count": null,
   "id": "f20bb564",
   "metadata": {},
   "outputs": [],
   "source": [
    "pt.todb(medecin,cn,'Dim_MEDECIN')"
   ]
  },
  {
   "cell_type": "code",
   "execution_count": null,
   "id": "3449d1bb",
   "metadata": {},
   "outputs": [],
   "source": [
    "pt.todb(consultation,cn,'Fait_CONSULTATION')"
   ]
  },
  {
   "cell_type": "code",
   "execution_count": null,
   "id": "f866db2f",
   "metadata": {},
   "outputs": [],
   "source": []
  }
 ],
 "metadata": {
  "kernelspec": {
   "display_name": "Python 3 (ipykernel)",
   "language": "python",
   "name": "python3"
  },
  "language_info": {
   "codemirror_mode": {
    "name": "ipython",
    "version": 3
   },
   "file_extension": ".py",
   "mimetype": "text/x-python",
   "name": "python",
   "nbconvert_exporter": "python",
   "pygments_lexer": "ipython3",
   "version": "3.9.13"
  }
 },
 "nbformat": 4,
 "nbformat_minor": 5
}
